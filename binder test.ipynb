Exercise 1: Print Statements
Note: In Python, the print() function is used to display text or variables on the screen. Make sure to use proper syntax, like matching parentheses and using quotes for strings.

python
Copy code
# Exercise: Fix the following print statements

# 1.1) Correct the syntax error in the following line:
# print("Hello, World!)

# 1.2) Display the result of adding two numbers (5 + 10)

# 1.3) Use print() to show the result of multiplying two numbers (4 * 8)
Expected Output:

"Hello, World!"
15
32


Exercise 2: Variables
Note: Variables are used to store data. Python allows you to create variables on the fly, but remember that variable names should be meaningful and follow certain rules (e.g., no spaces, cannot start with a number).

python
Copy code
# Exercise: Declare variables and use them in expressions

# 2.1) Create a variable called 'name' and store your name in it. Print it.

# 2.2) Create two variables, 'x' and 'y', and store the values 10 and 20 in them.
# Then print their sum.

# 2.3) Swap the values of the variables 'a' and 'b'.
a = 5
b = 10
# Hint: You can do it in one line in Python using a, b = b, a
Expected Output:

Your name
30
a should now be 10, and b should be 5.