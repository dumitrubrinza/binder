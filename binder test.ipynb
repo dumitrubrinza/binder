 
# Exercise: Fix the following print statements

# 1.1) Correct the syntax error in the following line:
# print("Hello, World!)

# 1.2) Display the result of adding two numbers (5 + 10)

# 1.3) Use print() to show the result of multiplying two numbers (4 * 8)
 


 
# Exercise: Declare variables and use them in expressions

# 2.1) Create a variable called 'name' and store your name in it. Print it.

# 2.2) Create two variables, 'x' and 'y', and store the values 10 and 20 in them.
# Then print their sum.

# 2.3) Swap the values of the variables 'a' and 'b'.
a = 5
b = 10
# Hint: You can do it in one line in Python using a, b = b, a
 
